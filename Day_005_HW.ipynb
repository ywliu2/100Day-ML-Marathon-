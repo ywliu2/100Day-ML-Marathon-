{
 "cells": [
  {
   "cell_type": "code",
   "execution_count": 2,
   "metadata": {},
   "outputs": [],
   "source": [
    "# Import 需要的套件\n",
    "import os\n",
    "import numpy as np\n",
    "import pandas as pd\n",
    "\n",
    "# 設定 data_path\n",
    "dir_data = '/Users/kerwin/OneDrive/homework'"
   ]
  },
  {
   "cell_type": "code",
   "execution_count": 3,
   "metadata": {},
   "outputs": [],
   "source": [
    "f_app_train = os.path.join(dir_data, 'application_train.csv')\n",
    "app_train = pd.read_csv(f_app_train)"
   ]
  },
  {
   "cell_type": "code",
   "execution_count": 4,
   "metadata": {},
   "outputs": [],
   "source": [
    "import matplotlib.pyplot as plt\n",
    "%matplotlib inline"
   ]
  },
  {
   "cell_type": "markdown",
   "metadata": {},
   "source": [
    "## 練習時間"
   ]
  },
  {
   "cell_type": "markdown",
   "metadata": {},
   "source": [
    "觀察有興趣的欄位的資料分佈，並嘗試找出有趣的訊息\n",
    "#### Eg\n",
    "- 計算任意欄位的平均數及標準差\n",
    "- 畫出任意欄位的[直方圖](https://zh.wikipedia.org/zh-tw/%E7%9B%B4%E6%96%B9%E5%9B%BE)\n",
    "\n",
    "### Hints:\n",
    "- [Descriptive Statistics For pandas Dataframe](https://chrisalbon.com/python/data_wrangling/pandas_dataframe_descriptive_stats/)\n",
    "- [pandas 中的繪圖函數](https://amaozhao.gitbooks.io/pandas-notebook/content/pandas%E4%B8%AD%E7%9A%84%E7%BB%98%E5%9B%BE%E5%87%BD%E6%95%B0.html)\n"
   ]
  },
  {
   "cell_type": "code",
   "execution_count": 25,
   "metadata": {},
   "outputs": [
    {
     "name": "stdout",
     "output_type": "stream",
     "text": [
      "資料欄位 (307511, 122)\n",
      "抽樣欄位資訊    SK_ID_CURR  TARGET NAME_CONTRACT_TYPE CODE_GENDER FLAG_OWN_CAR  \\\n",
      "0      100002       1         Cash loans           M            N   \n",
      "1      100003       0         Cash loans           F            N   \n",
      "2      100004       0    Revolving loans           M            Y   \n",
      "3      100006       0         Cash loans           F            N   \n",
      "4      100007       0         Cash loans           M            N   \n",
      "\n",
      "  FLAG_OWN_REALTY  CNT_CHILDREN  AMT_INCOME_TOTAL  AMT_CREDIT  AMT_ANNUITY  \\\n",
      "0               Y             0          202500.0    406597.5      24700.5   \n",
      "1               N             0          270000.0   1293502.5      35698.5   \n",
      "2               Y             0           67500.0    135000.0       6750.0   \n",
      "3               Y             0          135000.0    312682.5      29686.5   \n",
      "4               Y             0          121500.0    513000.0      21865.5   \n",
      "\n",
      "              ...              FLAG_DOCUMENT_18 FLAG_DOCUMENT_19  \\\n",
      "0             ...                             0                0   \n",
      "1             ...                             0                0   \n",
      "2             ...                             0                0   \n",
      "3             ...                             0                0   \n",
      "4             ...                             0                0   \n",
      "\n",
      "  FLAG_DOCUMENT_20 FLAG_DOCUMENT_21 AMT_REQ_CREDIT_BUREAU_HOUR  \\\n",
      "0                0                0                        0.0   \n",
      "1                0                0                        0.0   \n",
      "2                0                0                        0.0   \n",
      "3                0                0                        NaN   \n",
      "4                0                0                        0.0   \n",
      "\n",
      "  AMT_REQ_CREDIT_BUREAU_DAY  AMT_REQ_CREDIT_BUREAU_WEEK  \\\n",
      "0                       0.0                         0.0   \n",
      "1                       0.0                         0.0   \n",
      "2                       0.0                         0.0   \n",
      "3                       NaN                         NaN   \n",
      "4                       0.0                         0.0   \n",
      "\n",
      "   AMT_REQ_CREDIT_BUREAU_MON  AMT_REQ_CREDIT_BUREAU_QRT  \\\n",
      "0                        0.0                        0.0   \n",
      "1                        0.0                        0.0   \n",
      "2                        0.0                        0.0   \n",
      "3                        NaN                        NaN   \n",
      "4                        0.0                        0.0   \n",
      "\n",
      "   AMT_REQ_CREDIT_BUREAU_YEAR  \n",
      "0                         1.0  \n",
      "1                         0.0  \n",
      "2                         0.0  \n",
      "3                         NaN  \n",
      "4                         0.0  \n",
      "\n",
      "[5 rows x 122 columns]\n",
      "平均AMT_CREDIT 599025.9997057016\n",
      "AMT_CREDIT標準差 402490.776995946\n"
     ]
    },
    {
     "data": {
      "image/png": "[encoded data removed]",
      "text/plain": [
       "<Figure size 432x288 with 1 Axes>"
      ]
     },
     "metadata": {},
     "output_type": "display_data"
    }
   ],
   "source": [
    "print('資料欄位',app_train.shape)\n",
    "print('抽樣欄位資訊',app_train.head())\n",
    "print('平均AMT_CREDIT',app_train['AMT_CREDIT'].mean())\n",
    "print('AMT_CREDIT標準差',app_train['AMT_CREDIT'].std())\n",
    "app_train['AMT_CREDIT'].plot(kind = 'hist', title = 'AMT_CREDIT', legend = False, bins = 60)\n",
    "plt.show()"
   ]
  },
  {
   "cell_type": "code",
   "execution_count": null,
   "metadata": {},
   "outputs": [],
   "source": []
  }
 ],
 "metadata": {
  "kernelspec": {
   "display_name": "Python 3",
   "language": "python",
   "name": "python3"
  },
  "language_info": {
   "codemirror_mode": {
    "name": "ipython",
    "version": 3
   },
   "file_extension": ".py",
   "mimetype": "text/x-python",
   "name": "python",
   "nbconvert_exporter": "python",
   "pygments_lexer": "ipython3",
   "version": "3.6.5"
  }
 },
 "nbformat": 4,
 "nbformat_minor": 2
}
